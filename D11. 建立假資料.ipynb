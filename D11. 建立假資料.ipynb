{
 "cells": [
  {
   "cell_type": "code",
   "execution_count": 1,
   "id": "5b84e2cd",
   "metadata": {
    "ExecuteTime": {
     "end_time": "2022-03-28T09:57:37.709154Z",
     "start_time": "2022-03-28T09:57:37.191537Z"
    }
   },
   "outputs": [],
   "source": [
    "import django\n",
    "django.setup()"
   ]
  },
  {
   "cell_type": "code",
   "execution_count": 2,
   "id": "b4ce1643",
   "metadata": {
    "ExecuteTime": {
     "end_time": "2022-03-28T09:57:37.720123Z",
     "start_time": "2022-03-28T09:57:37.713145Z"
    }
   },
   "outputs": [],
   "source": [
    "from user.models import User"
   ]
  },
  {
   "cell_type": "code",
   "execution_count": 3,
   "id": "44a0e45b",
   "metadata": {
    "ExecuteTime": {
     "end_time": "2022-03-28T09:57:38.005450Z",
     "start_time": "2022-03-28T09:57:37.724114Z"
    }
   },
   "outputs": [
    {
     "data": {
      "text/plain": [
       "{'job': '生產管理主管',\n",
       " 'company': '鐵台',\n",
       " 'ssn': 'K724155419',\n",
       " 'residence': '79067 蘆竹縣文化路3段4號2樓',\n",
       " 'current_location': (Decimal('63.7354295'), Decimal('62.848324')),\n",
       " 'blood_group': 'A-',\n",
       " 'website': ['https://he.net/',\n",
       "  'https://www.lin.tw/',\n",
       "  'https://www.luo.org/',\n",
       "  'http://www.guo.com/'],\n",
       " 'username': 'fanghou',\n",
       " 'name': '吳怡婷',\n",
       " 'sex': 'M',\n",
       " 'address': '936 新營市紅樹林街961號2樓',\n",
       " 'mail': 'fang63@gmail.com',\n",
       " 'birthdate': datetime.date(1975, 2, 10)}"
      ]
     },
     "execution_count": 3,
     "metadata": {},
     "output_type": "execute_result"
    }
   ],
   "source": [
    "from faker import Faker\n",
    "fake = Faker(locale='zh_TW')\n",
    "fake.profile()"
   ]
  },
  {
   "cell_type": "code",
   "execution_count": 4,
   "id": "c9c9bb45",
   "metadata": {
    "ExecuteTime": {
     "end_time": "2022-03-28T09:57:38.018415Z",
     "start_time": "2022-03-28T09:57:38.010436Z"
    }
   },
   "outputs": [],
   "source": [
    "def make_user(user: dict):\n",
    "    if 'password' not in user:\n",
    "        user['password'] = User.objects.make_random_password()\n",
    "    return User(**user)"
   ]
  },
  {
   "cell_type": "code",
   "execution_count": 5,
   "id": "bc900790",
   "metadata": {
    "ExecuteTime": {
     "end_time": "2022-03-28T09:57:39.891076Z",
     "start_time": "2022-03-28T09:57:38.021407Z"
    }
   },
   "outputs": [],
   "source": [
    "fake_size = 5000\n",
    "new_users = [\n",
    "    {'username': username, 'email': email, 'name': name}\n",
    "    for username, email, name in zip(\n",
    "        set([fake.user_name() for i in range(fake_size)]),\n",
    "        [fake.email() for i in range(fake_size)],\n",
    "        [fake.name() for i in range(fake_size)]\n",
    "    )\n",
    "]\n",
    "new_users = map(make_user, new_users)"
   ]
  },
  {
   "cell_type": "code",
   "execution_count": 6,
   "id": "2d39f3c7",
   "metadata": {
    "ExecuteTime": {
     "end_time": "2022-03-28T09:57:42.010351Z",
     "start_time": "2022-03-28T09:57:39.894069Z"
    }
   },
   "outputs": [],
   "source": [
    "from itertools import islice\n",
    "batch_size = 999\n",
    "while True:\n",
    "    batch = list(islice(new_users, batch_size))\n",
    "    if not batch:\n",
    "        break\n",
    "    User.objects.bulk_create(batch, batch_size)"
   ]
  },
  {
   "cell_type": "code",
   "execution_count": null,
   "id": "dc9e4a54",
   "metadata": {},
   "outputs": [],
   "source": []
  }
 ],
 "metadata": {
  "kernelspec": {
   "display_name": "Python 3 (ipykernel)",
   "language": "python",
   "name": "python3"
  },
  "language_info": {
   "codemirror_mode": {
    "name": "ipython",
    "version": 3
   },
   "file_extension": ".py",
   "mimetype": "text/x-python",
   "name": "python",
   "nbconvert_exporter": "python",
   "pygments_lexer": "ipython3",
   "version": "3.7.11"
  },
  "toc": {
   "base_numbering": 1,
   "nav_menu": {},
   "number_sections": true,
   "sideBar": true,
   "skip_h1_title": false,
   "title_cell": "Table of Contents",
   "title_sidebar": "Contents",
   "toc_cell": false,
   "toc_position": {},
   "toc_section_display": true,
   "toc_window_display": false
  },
  "varInspector": {
   "cols": {
    "lenName": 16,
    "lenType": 16,
    "lenVar": 40
   },
   "kernels_config": {
    "python": {
     "delete_cmd_postfix": "",
     "delete_cmd_prefix": "del ",
     "library": "var_list.py",
     "varRefreshCmd": "print(var_dic_list())"
    },
    "r": {
     "delete_cmd_postfix": ") ",
     "delete_cmd_prefix": "rm(",
     "library": "var_list.r",
     "varRefreshCmd": "cat(var_dic_list()) "
    }
   },
   "types_to_exclude": [
    "module",
    "function",
    "builtin_function_or_method",
    "instance",
    "_Feature"
   ],
   "window_display": false
  }
 },
 "nbformat": 4,
 "nbformat_minor": 5
}
